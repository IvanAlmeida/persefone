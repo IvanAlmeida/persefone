{
 "cells": [
  {
   "cell_type": "markdown",
   "metadata": {},
   "source": [
    "# Torus Tutorial\n",
    "\n",
    "\n",
    "This is a notebook designed to guide you through the steps nedded to run the Torus code developped by our group. In the end you should be able to run and modify the essential parts of this code.\n",
    "\n",
    "Also, we expect you've already installed PLUTO, cloned this repository : https://github.com/rsnemmen/pluto.git and installed mpich package from apt-get (``` sudo apt-get install mpich```).\n"
   ]
  },
  {
   "cell_type": "markdown",
   "metadata": {},
   "source": [
    "## Cloning pluto-tools\n",
    "\n",
    "To clone the repository pluto-tools just paste this command in the terminal:\n",
    "\n",
    "```bash\n",
    "git clone https://hgubolin@bitbucket.org/nemmen/pluto-tools.git\n",
    "```\n"
   ]
  },
  {
   "cell_type": "markdown",
   "metadata": {},
   "source": [
    "## Compiling the code\n",
    "\n",
    "First of all, go to the *$PLUTO_DIR/Test_Problems/MHD/Torus* and there should have those files:\n",
    "\n",
    "- definitions.h\n",
    "- init.c\n",
    "- makefile\n",
    "- pluto.ini\n",
    "- visc_nu.c\n",
    "- viscous_flux.c\n",
    "\n",
    "*Visc_nu.c* is the file that tells PLUTO how intense the flux is; *viscous_flux.c* is the file that tells how PLUTO should consider the stress tensor."
   ]
  },
  {
   "cell_type": "markdown",
   "metadata": {},
   "source": [
    "Now run the terminal command: \n",
    "```bash\n",
    "python $PLUTO_DIR/setup.py\n",
    "```\n",
    "\n",
    "and this screen should appear\n",
    "\n",
    "![title](imgs/fig1.png)\n",
    "\n",
    "You should select *Setup Problem* then enter:\n",
    "\n",
    "![title](imgs/fig2.png)\n",
    "\n",
    "then enter\n",
    "\n",
    "![title](imgs/fig3.png)\n",
    "\n",
    "then enter, and select *mpi_linux*\n",
    "\n",
    "![title](imgs/fig4.png)\n",
    "\n",
    "\n",
    "Finally you should just compile the code using \n",
    "\n",
    "```bash\n",
    "make\n",
    "```\n",
    "\n",
    "and you should have the compiled code just like this\n",
    "\n",
    "![title](imgs/fig5.png)\n",
    "\n"
   ]
  },
  {
   "cell_type": "markdown",
   "metadata": {
    "collapsed": true
   },
   "source": [
    "## Running the simulation\n",
    "\n",
    "\n",
    "Now we have two ways to run the code: in your computer or in Alpha Crucis Cluster. We shall detail both.\n",
    "\n",
    "### In your computer\n",
    "\n",
    "The easiest way to run the code (and will take longer) is just run the following code:\n",
    "\n",
    "```bash\n",
    "mpirun -n N ./pluto\n",
    "```\n",
    "\n",
    "where N is the amount of processors wanted. If you want to restart an previous simulation just run:\n",
    "\n",
    "```bash\n",
    "mpirun -n N ./pluto -restart M\n",
    "```\n",
    "\n",
    "where M is the last snapshot.\n",
    "\n",
    "### In AC cluster\n",
    "\n",
    "In this case you cannot run directly into the cluster, you should first queue your program. To do it, just use the *mpirun.job* program that is in pluto-tools repository and submit it with this command:\n",
    "\n",
    "```bash\n",
    "qsub mpirun.job\n",
    "```\n",
    "\n",
    "Mind that you should have changed the file prior to subimittion. More details in the end of this notebook\n",
    "\n",
    "[comment]: <> (Need to include an mpirun if the person want to run pluto-tools in the cluster)"
   ]
  },
  {
   "cell_type": "markdown",
   "metadata": {
    "collapsed": true
   },
   "source": [
    "## Running the plots\n",
    "\n",
    "There are several plots that are already implemented, all of them are ment to match Stone+99 plots. The Torus simulation that you ran also is made to match this article.\n",
    "\n",
    "The following sections teach you how to obtain these graphics.\n",
    "\n",
    "### Figure 1 - Density map\n",
    "\n",
    "To obtain the density map for a given snapshot you can just run:\n",
    "\n",
    "The output will be an image named ```plot.i.png``` with the default parameters."
   ]
  },
  {
   "cell_type": "code",
   "execution_count": 1,
   "metadata": {
    "collapsed": false
   },
   "outputs": [
    {
     "ename": "ImportError",
     "evalue": "No module named pyPLUTO",
     "output_type": "error",
     "traceback": [
      "\u001b[0;31m---------------------------------------------------------------------------\u001b[0m",
      "\u001b[0;31mImportError\u001b[0m                               Traceback (most recent call last)",
      "\u001b[0;32m<ipython-input-1-d1c1c85e5218>\u001b[0m in \u001b[0;36m<module>\u001b[0;34m()\u001b[0m\n\u001b[0;32m----> 1\u001b[0;31m \u001b[0;32mimport\u001b[0m \u001b[0mpluto\u001b[0m\u001b[0;34m\u001b[0m\u001b[0m\n\u001b[0m\u001b[1;32m      2\u001b[0m \u001b[0;32mimport\u001b[0m \u001b[0mos\u001b[0m\u001b[0;34m\u001b[0m\u001b[0m\n\u001b[1;32m      3\u001b[0m \u001b[0mw_dir\u001b[0m \u001b[0;34m=\u001b[0m \u001b[0;34m\"/home/ivan/codes/pluto/Test_Problems/Ivan-tests/Diffusion/test-1/\"\u001b[0m \u001b[0;31m#your directory\u001b[0m\u001b[0;34m\u001b[0m\u001b[0m\n\u001b[1;32m      4\u001b[0m \u001b[0mi\u001b[0m \u001b[0;34m=\u001b[0m \u001b[0;36m10\u001b[0m\u001b[0;34m\u001b[0m\u001b[0m\n\u001b[1;32m      5\u001b[0m \u001b[0mos\u001b[0m\u001b[0;34m.\u001b[0m\u001b[0mchdir\u001b[0m\u001b[0;34m(\u001b[0m\u001b[0mw_dir\u001b[0m\u001b[0;34m)\u001b[0m\u001b[0;34m\u001b[0m\u001b[0m\n",
      "\u001b[0;32m/home/ivan/packages/pluto-tools/pluto.py\u001b[0m in \u001b[0;36m<module>\u001b[0;34m()\u001b[0m\n\u001b[1;32m      4\u001b[0m \u001b[0;34m\u001b[0m\u001b[0m\n\u001b[1;32m      5\u001b[0m \u001b[0;34m\u001b[0m\u001b[0m\n\u001b[0;32m----> 6\u001b[0;31m \u001b[0;32mimport\u001b[0m \u001b[0mpyPLUTO\u001b[0m \u001b[0;32mas\u001b[0m \u001b[0mpp\u001b[0m\u001b[0;34m\u001b[0m\u001b[0m\n\u001b[0m\u001b[1;32m      7\u001b[0m \u001b[0;31m#import pylab, numpy\u001b[0m\u001b[0;34m\u001b[0m\u001b[0;34m\u001b[0m\u001b[0m\n\u001b[1;32m      8\u001b[0m \u001b[0;32mimport\u001b[0m \u001b[0mnumpy\u001b[0m\u001b[0;34m\u001b[0m\u001b[0m\n",
      "\u001b[0;31mImportError\u001b[0m: No module named pyPLUTO"
     ]
    }
   ],
   "source": [
    "import pluto\n",
    "import os\n",
    "w_dir = \"/home/ivan/codes/pluto/Test_Problems/Ivan-tests/Diffusion/test-1/\" #your directory\n",
    "i = 10\n",
    "os.chdir(w_dir)\n",
    "C = pluto.Pluto(i) # Where i is the snapshot number\n",
    "C.snapshot()"
   ]
  },
  {
   "cell_type": "markdown",
   "metadata": {},
   "source": [
    "You can also (and its highly recomended) run all these plot in parallel. To do this you run:\n",
    "```python\n",
    "pluto.run_torus(w_dir,N_snap,size)\n",
    "```\n",
    "which is already in pluto-tools. *w_dir* is the simulation's directory, *N_snap* the number of snapshots and *size* is the size of plotted area."
   ]
  },
  {
   "cell_type": "markdown",
   "metadata": {
    "collapsed": true
   },
   "source": [
    "### Figure 2 - Accreted Mass\n",
    "\n",
    "To make this plot you should just run:"
   ]
  },
  {
   "cell_type": "code",
   "execution_count": 2,
   "metadata": {
    "collapsed": false
   },
   "outputs": [
    {
     "name": "stdout",
     "output_type": "stream",
     "text": [
      "Reading Data file : /home/hgubolin/Documents/torus/stoneB_vm/data.0000.dbl\n",
      "1089.53120385\n",
      "Reading Data file : /home/hgubolin/Documents/torus/stoneB_vm/data.0001.dbl\n",
      "Reading Data file : /home/hgubolin/Documents/torus/stoneB_vm/data.0002.dbl\n",
      "Reading Data file : /home/hgubolin/Documents/torus/stoneB_vm/data.0003.dbl\n",
      "Reading Data file : /home/hgubolin/Documents/torus/stoneB_vm/data.0004.dbl\n",
      "Reading Data file : /home/hgubolin/Documents/torus/stoneB_vm/data.0005.dbl\n",
      "Reading Data file : /home/hgubolin/Documents/torus/stoneB_vm/data.0006.dbl\n",
      "Reading Data file : /home/hgubolin/Documents/torus/stoneB_vm/data.0007.dbl\n",
      "Reading Data file : /home/hgubolin/Documents/torus/stoneB_vm/data.0008.dbl\n",
      "Reading Data file : /home/hgubolin/Documents/torus/stoneB_vm/data.0009.dbl\n",
      "Reading Data file : /home/hgubolin/Documents/torus/stoneB_vm/data.0010.dbl\n"
     ]
    },
    {
     "name": "stderr",
     "output_type": "stream",
     "text": [
      "/home/hgubolin/.anaconda/lib/python2.7/site-packages/matplotlib/axes/_base.py:1166: UserWarning: aspect is not supported for Axes with xscale=linear, yscale=log\n",
      "  'yscale=%s' % (xscale, yscale))\n"
     ]
    },
    {
     "name": "stdout",
     "output_type": "stream",
     "text": [
      "Macc = 0.000000e+00\n"
     ]
    }
   ],
   "source": [
    "Rb = 0.01\n",
    "Nf = 10\n",
    "t_tot = 14\n",
    "pluto.run_fig2(Rb,Nf,t_tot)"
   ]
  },
  {
   "cell_type": "markdown",
   "metadata": {
    "collapsed": true
   },
   "source": [
    "### Figure 4 \n",
    "\n",
    "Yet to implement"
   ]
  },
  {
   "cell_type": "markdown",
   "metadata": {},
   "source": [
    "### Figure 5\n",
    "\n",
    "To make this plot you must run:\n",
    "\n"
   ]
  },
  {
   "cell_type": "code",
   "execution_count": 3,
   "metadata": {
    "collapsed": false
   },
   "outputs": [
    {
     "name": "stdout",
     "output_type": "stream",
     "text": [
      "Reading Data file : /home/hgubolin/Documents/torus/stoneB_vm/data.0010.dbl\n",
      "Reading Data file : /home/hgubolin/Documents/torus/stoneB_vm/data.0011.dbl\n",
      "Reading Data file : /home/hgubolin/Documents/torus/stoneB_vm/data.0012.dbl\n",
      "Reading Data file : /home/hgubolin/Documents/torus/stoneB_vm/data.0013.dbl\n",
      "Reading Data file : /home/hgubolin/Documents/torus/stoneB_vm/data.0014.dbl\n",
      "Reading Data file : /home/hgubolin/Documents/torus/stoneB_vm/data.0015.dbl\n",
      "Reading Data file : /home/hgubolin/Documents/torus/stoneB_vm/data.0016.dbl\n",
      "Reading Data file : /home/hgubolin/Documents/torus/stoneB_vm/data.0017.dbl\n",
      "Reading Data file : /home/hgubolin/Documents/torus/stoneB_vm/data.0018.dbl\n",
      "Reading Data file : /home/hgubolin/Documents/torus/stoneB_vm/data.0019.dbl\n",
      "Reading Data file : /home/hgubolin/Documents/torus/stoneB_vm/data.0020.dbl\n",
      "Done sph_plot\n"
     ]
    }
   ],
   "source": [
    "Ni = 10 #initial snapshot\n",
    "Nf = 20 #final snapshot\n",
    "pluto.run_fig5(w_dir,Ni,Nf)"
   ]
  },
  {
   "cell_type": "markdown",
   "metadata": {},
   "source": []
  },
  {
   "cell_type": "code",
   "execution_count": null,
   "metadata": {
    "collapsed": true
   },
   "outputs": [],
   "source": []
  }
 ],
 "metadata": {
  "anaconda-cloud": {},
  "kernelspec": {
   "display_name": "Python 2",
   "language": "python",
   "name": "python2"
  },
  "language_info": {
   "codemirror_mode": {
    "name": "ipython",
    "version": 2
   },
   "file_extension": ".py",
   "mimetype": "text/x-python",
   "name": "python",
   "nbconvert_exporter": "python",
   "pygments_lexer": "ipython2",
   "version": "2.7.13"
  }
 },
 "nbformat": 4,
 "nbformat_minor": 1
}
